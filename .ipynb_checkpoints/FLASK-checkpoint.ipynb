{
 "cells": [
  {
   "cell_type": "code",
   "execution_count": 2,
   "id": "dc51d846-f166-417d-aa0c-8a259374907a",
   "metadata": {},
   "outputs": [
    {
     "name": "stdout",
     "output_type": "stream",
     "text": [
      "Collecting flask\n",
      "  Downloading Flask-2.1.0-py3-none-any.whl (95 kB)\n",
      "     -------------------------------------- 95.2/95.2 KB 772.5 kB/s eta 0:00:00\n",
      "Collecting click>=8.0\n",
      "  Downloading click-8.1.0-py3-none-any.whl (96 kB)\n",
      "     ---------------------------------------- 96.4/96.4 KB 1.8 MB/s eta 0:00:00\n",
      "Requirement already satisfied: importlib-metadata in c:\\users\\owais\\appdata\\local\\programs\\python\\python38\\lib\\site-packages (from flask) (4.11.3)\n",
      "Requirement already satisfied: Jinja2>=3.0 in c:\\users\\owais\\appdata\\local\\programs\\python\\python38\\lib\\site-packages (from flask) (3.0.3)\n",
      "Requirement already satisfied: Werkzeug>=2.0 in c:\\users\\owais\\appdata\\local\\programs\\python\\python38\\lib\\site-packages (from flask) (2.0.3)Note: you may need to restart the kernel to use updated packages.\n",
      "\n"
     ]
    },
    {
     "name": "stderr",
     "output_type": "stream",
     "text": [
      "WARNING: Ignoring invalid distribution -orch (c:\\users\\owais\\appdata\\local\\programs\\python\\python38\\lib\\site-packages)\n",
      "WARNING: Ignoring invalid distribution -ensorflow-gpu (c:\\users\\owais\\appdata\\local\\programs\\python\\python38\\lib\\site-packages)\n",
      "WARNING: Ignoring invalid distribution -orch (c:\\users\\owais\\appdata\\local\\programs\\python\\python38\\lib\\site-packages)\n",
      "WARNING: Ignoring invalid distribution -ensorflow-gpu (c:\\users\\owais\\appdata\\local\\programs\\python\\python38\\lib\\site-packages)\n",
      "  WARNING: Retrying (Retry(total=4, connect=None, read=None, redirect=None, status=None)) after connection broken by 'ReadTimeoutError(\"HTTPSConnectionPool(host='files.pythonhosted.org', port=443): Read timed out. (read timeout=15)\")': /packages/ef/31/3ca16c38b92da4850301e426105ba2b747c480d7fe2715ff703360d3880f/Flask-2.1.0-py3-none-any.whl\n",
      "WARNING: Ignoring invalid distribution -orch (c:\\users\\owais\\appdata\\local\\programs\\python\\python38\\lib\\site-packages)\n",
      "WARNING: Ignoring invalid distribution -ensorflow-gpu (c:\\users\\owais\\appdata\\local\\programs\\python\\python38\\lib\\site-packages)\n",
      "WARNING: Ignoring invalid distribution -orch (c:\\users\\owais\\appdata\\local\\programs\\python\\python38\\lib\\site-packages)\n",
      "WARNING: Ignoring invalid distribution -ensorflow-gpu (c:\\users\\owais\\appdata\\local\\programs\\python\\python38\\lib\\site-packages)\n",
      "WARNING: Ignoring invalid distribution -orch (c:\\users\\owais\\appdata\\local\\programs\\python\\python38\\lib\\site-packages)\n",
      "WARNING: Ignoring invalid distribution -ensorflow-gpu (c:\\users\\owais\\appdata\\local\\programs\\python\\python38\\lib\\site-packages)\n",
      "WARNING: Ignoring invalid distribution -orch (c:\\users\\owais\\appdata\\local\\programs\\python\\python38\\lib\\site-packages)"
     ]
    },
    {
     "name": "stdout",
     "output_type": "stream",
     "text": [
      "Collecting itsdangerous>=2.0\n",
      "  Downloading itsdangerous-2.1.2-py3-none-any.whl (15 kB)\n",
      "Requirement already satisfied: colorama in c:\\users\\owais\\appdata\\local\\programs\\python\\python38\\lib\\site-packages (from click>=8.0->flask) (0.4.4)\n",
      "Requirement already satisfied: MarkupSafe>=2.0 in c:\\users\\owais\\appdata\\local\\programs\\python\\python38\\lib\\site-packages (from Jinja2>=3.0->flask) (2.1.1)\n",
      "Requirement already satisfied: zipp>=0.5 in c:\\users\\owais\\appdata\\local\\programs\\python\\python38\\lib\\site-packages (from importlib-metadata->flask) (3.7.0)\n",
      "Installing collected packages: itsdangerous, click, flask\n",
      "Successfully installed click-8.1.0 flask-2.1.0 itsdangerous-2.1.2\n"
     ]
    },
    {
     "name": "stderr",
     "output_type": "stream",
     "text": [
      "\n",
      "WARNING: Ignoring invalid distribution -ensorflow-gpu (c:\\users\\owais\\appdata\\local\\programs\\python\\python38\\lib\\site-packages)\n",
      "WARNING: Ignoring invalid distribution -orch (c:\\users\\owais\\appdata\\local\\programs\\python\\python38\\lib\\site-packages)\n",
      "WARNING: Ignoring invalid distribution -ensorflow-gpu (c:\\users\\owais\\appdata\\local\\programs\\python\\python38\\lib\\site-packages)\n",
      "WARNING: Ignoring invalid distribution -orch (c:\\users\\owais\\appdata\\local\\programs\\python\\python38\\lib\\site-packages)\n",
      "WARNING: Ignoring invalid distribution -ensorflow-gpu (c:\\users\\owais\\appdata\\local\\programs\\python\\python38\\lib\\site-packages)\n"
     ]
    }
   ],
   "source": [
    "pip install flask"
   ]
  },
  {
   "cell_type": "code",
   "execution_count": 3,
   "id": "1ec20813-b52b-49b0-bc5f-3c3307c47a7c",
   "metadata": {},
   "outputs": [
    {
     "name": "stdout",
     "output_type": "stream",
     "text": [
      "WARNING:tensorflow:No training configuration found in the save file, so the model was *not* compiled. Compile it manually.\n",
      " * Serving Flask app '__main__' (lazy loading)\n",
      " * Environment: production\n",
      "\u001b[31m   WARNING: This is a development server. Do not use it in a production deployment.\u001b[0m\n",
      "\u001b[2m   Use a production WSGI server instead.\u001b[0m\n",
      " * Debug mode: on\n"
     ]
    },
    {
     "name": "stderr",
     "output_type": "stream",
     "text": [
      " * Restarting with stat\n"
     ]
    },
    {
     "ename": "SystemExit",
     "evalue": "1",
     "output_type": "error",
     "traceback": [
      "An exception has occurred, use %tb to see the full traceback.\n",
      "\u001b[1;31mSystemExit\u001b[0m\u001b[1;31m:\u001b[0m 1\n"
     ]
    },
    {
     "name": "stderr",
     "output_type": "stream",
     "text": [
      "C:\\Users\\owais\\AppData\\Local\\Programs\\Python\\Python38\\lib\\site-packages\\IPython\\core\\interactiveshell.py:3369: UserWarning: To exit: use 'exit', 'quit', or Ctrl-D.\n",
      "  warn(\"To exit: use 'exit', 'quit', or Ctrl-D.\", stacklevel=1)\n"
     ]
    }
   ],
   "source": [
    "import flask\n",
    "import io\n",
    "import string\n",
    "import time\n",
    "import os\n",
    "import numpy as np\n",
    "import tensorflow as tf\n",
    "from PIL import Image\n",
    "from flask import Flask, jsonify, request\n",
    "\n",
    "model = tf.keras.models.load_model(r\"C:\\Users\\owais\\Desktop\\ML\\DL\\Practice\\MobileNetV2\\model.h5\")\n",
    "\n",
    "def prepare_image(img):\n",
    "    img = Image.open(io.BytesIO(img))\n",
    "    img = img.resize((224, 224))\n",
    "    img = np.array(img)\n",
    "    img = np.expand_dims(img, 0)\n",
    "    return img\n",
    "\n",
    "\n",
    "def predict_result(img):\n",
    "    return 1 if model.predict(img)[0][0] > 0.5 else 0\n",
    "\n",
    "\n",
    "app = Flask(__name__)\n",
    "\n",
    "@app.route('/predict', methods=['POST'])\n",
    "def infer_image():\n",
    "    if 'file' not in request.files:\n",
    "        return \"Please try again. The Image doesn't exist\"\n",
    "    \n",
    "    file = request.files.get('file')\n",
    "\n",
    "    if not file:\n",
    "        return\n",
    "\n",
    "    img_bytes = file.read()\n",
    "    img = prepare_image(img_bytes)\n",
    "\n",
    "    return jsonify(prediction=predict_result(img))\n",
    "    \n",
    "\n",
    "@app.route('/', methods=['GET'])\n",
    "def index():\n",
    "    return 'Machine Learning Inference'\n",
    "\n",
    "\n",
    "if __name__ == '__main__':\n",
    "    app.run(debug=True, host='0.0.0.0')"
   ]
  },
  {
   "cell_type": "code",
   "execution_count": null,
   "id": "4723dfaf-4a98-47a3-99cb-7ab3750a97dd",
   "metadata": {},
   "outputs": [],
   "source": []
  }
 ],
 "metadata": {
  "kernelspec": {
   "display_name": "Python 3 (ipykernel)",
   "language": "python",
   "name": "python3"
  },
  "language_info": {
   "codemirror_mode": {
    "name": "ipython",
    "version": 3
   },
   "file_extension": ".py",
   "mimetype": "text/x-python",
   "name": "python",
   "nbconvert_exporter": "python",
   "pygments_lexer": "ipython3",
   "version": "3.8.2"
  }
 },
 "nbformat": 4,
 "nbformat_minor": 5
}
